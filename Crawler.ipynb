{
 "cells": [
  {
   "cell_type": "code",
   "execution_count": 87,
   "metadata": {},
   "outputs": [],
   "source": [
    "from selenium import webdriver as wd\n",
    "from bs4 import BeautifulSoup as bs"
   ]
  },
  {
   "cell_type": "code",
   "execution_count": 88,
   "metadata": {},
   "outputs": [],
   "source": [
    "driver = wd.Chrome(executable_path = '/home/sanyam/Downloads/chromedriver')\n",
    "driver.maximize_window()"
   ]
  },
  {
   "cell_type": "code",
   "execution_count": 89,
   "metadata": {},
   "outputs": [],
   "source": [
    "driver.get(\"https://www.booking.com/index.en-gb.html?label=gen173nr-1DCAEoggI46AdIM1gEaGyIAQGYAQm4ARnIAQzYAQPoAQGIAgGoAgO4ArbC3fYFwAIB0gIkY2FmMzUwZGEtOTgxNi00NTQ4LWI0N2MtNWE1OGJjMGUxYTQ12AIE4AIB;sid=6726270c9da0b8d57b12856fbe9971d0;keep_landing=1&sb_price_type=total&\")"
   ]
  },
  {
   "cell_type": "markdown",
   "metadata": {},
   "source": [
    "Sign In Part"
   ]
  },
  {
   "cell_type": "code",
   "execution_count": 90,
   "metadata": {},
   "outputs": [],
   "source": [
    "sign_in = driver.find_element_by_link_text('Sign in')\n",
    "sign_in.click()"
   ]
  },
  {
   "cell_type": "code",
   "execution_count": 91,
   "metadata": {},
   "outputs": [],
   "source": [
    "email = driver.find_element_by_id('username')\n",
    "email.send_keys(\"\") ## put in your username"
   ]
  },
  {
   "cell_type": "code",
   "execution_count": 92,
   "metadata": {},
   "outputs": [],
   "source": [
    "next_button = driver.find_element_by_xpath(\"//*[@id='root']/div/div[2]/div/div[1]/div[2]/div/div/div/form/div[3]/button\")\n",
    "next_button.click()"
   ]
  },
  {
   "cell_type": "code",
   "execution_count": 93,
   "metadata": {},
   "outputs": [],
   "source": [
    "password = driver.find_element_by_id('password')\n",
    "password.send_keys(\"\") ## put in your password\n",
    "sign_in = driver.find_element_by_xpath(\"//*[@id='root']/div/div[2]/div/div[1]/div[2]/div/div/div/form/button\")\n",
    "sign_in.click()"
   ]
  },
  {
   "cell_type": "markdown",
   "metadata": {},
   "source": [
    "Searching"
   ]
  },
  {
   "cell_type": "code",
   "execution_count": 94,
   "metadata": {},
   "outputs": [],
   "source": [
    "search = driver.find_element_by_id('ss')\n",
    "search.clear()\n",
    "search.send_keys(\"United States\")\n",
    "click = driver.find_element_by_xpath(\"//*[@id='frm']/div[1]/div[2]/div[1]/div[2]/div/div/div/div/span\")\n",
    "click.click()\n",
    "dateWidget = driver.find_element_by_xpath(\"//*[@id='frm']/div[1]/div[2]/div[2]/div/div/div[3]/div[1]/table\")\n",
    "columns = dateWidget.find_elements_by_tag_name('td')\n",
    "from datetime import date\n",
    "today = date.today()\n",
    "for i in columns:\n",
    "    if(str(i.get_attribute(\"data-date\")) == str(today)):\n",
    "        i.click()\n",
    "import datetime\n",
    "tomorrow = today + datetime.timedelta(days=1)\n",
    "for i in columns:\n",
    "    if(str(i.get_attribute(\"data-date\")) == str(tomorrow)):\n",
    "        i.click()\n",
    "submit = driver.find_element_by_xpath(\"//*[@id='frm']/div[1]/div[4]/div[2]/button\")\n",
    "submit.click()"
   ]
  },
  {
   "cell_type": "code",
   "execution_count": 95,
   "metadata": {},
   "outputs": [],
   "source": [
    "currency_selector= driver.find_element_by_xpath(\"//*[@id='b_tt_holder_1']\")\n",
    "currency_selector.click() "
   ]
  },
  {
   "cell_type": "code",
   "execution_count": 96,
   "metadata": {},
   "outputs": [],
   "source": [
    "USD = driver.find_element_by_xpath(\"//*[@id='currency_dropdown_top']/ul[2]/li[1]/a\")\n",
    "USD.click()"
   ]
  },
  {
   "cell_type": "markdown",
   "metadata": {},
   "source": [
    "Pagination"
   ]
  },
  {
   "cell_type": "code",
   "execution_count": 97,
   "metadata": {},
   "outputs": [],
   "source": [
    "cities = driver.find_element_by_xpath(\"//*[@id='filter_uf']/div[2]\")"
   ]
  },
  {
   "cell_type": "code",
   "execution_count": 98,
   "metadata": {},
   "outputs": [],
   "source": [
    "no_of_cities = cities.find_elements_by_tag_name('a')"
   ]
  },
  {
   "cell_type": "code",
   "execution_count": 99,
   "metadata": {},
   "outputs": [
    {
     "data": {
      "text/plain": [
       "26"
      ]
     },
     "execution_count": 99,
     "metadata": {},
     "output_type": "execute_result"
    }
   ],
   "source": [
    "x = len(no_of_cities)\n",
    "x"
   ]
  },
  {
   "cell_type": "code",
   "execution_count": 140,
   "metadata": {},
   "outputs": [],
   "source": [
    "def find_latlng(x):\n",
    "    ##print(x)\n",
    "    splits = x.split(\"=\")\n",
    "    ##print(splits)\n",
    "    lat = splits[1].split(';')[0]\n",
    "    lng = splits[2].split(';')[0]\n",
    "    return lat,lng"
   ]
  },
  {
   "cell_type": "code",
   "execution_count": 113,
   "metadata": {},
   "outputs": [],
   "source": [
    "hotel_names = []\n",
    "hotel_address = []\n",
    "hotel_prices = []\n",
    "\n",
    "for i in range(19,x):\n",
    "    cities = driver.find_element_by_xpath(\"//*[@id='filter_uf']/div[2]\")\n",
    "    no_of_cities = cities.find_elements_by_tag_name('a')\n",
    "    no_of_cities[i].click()\n",
    "    driver.refresh()\n",
    "    li = driver.find_elements_by_xpath(\"//*[@id='search_results_table']/div[4]/nav/ul/li[3]/a\")\n",
    "    while len(li)!=0:\n",
    "        li = driver.find_elements_by_xpath(\"//*[@id='search_results_table']/div[4]/nav/ul/li[3]/a\")\n",
    "        names = driver.find_elements_by_class_name('sr-hotel__name')\n",
    "        address = driver.find_elements_by_class_name('sr_card_address_line')\n",
    "        prices = driver.find_elements_by_css_selector('div.bui-price-display__value')\n",
    "        #links = driver.find_elements_by_partial_link_text('Show on map')\n",
    "        ##print(len(links),len(names),len(prices))\n",
    "        for j in range(len(names)):\n",
    "            ##links = driver.find_elements_by_partial_link_text('Show on Map')\n",
    "            #links[j].click()\n",
    "            #window_after = driver.window_handles[1]\n",
    "            #driver.switch_to_window(window_after)\n",
    "            #driver.refresh()\n",
    "            #script = driver.find_element_by_xpath(\"//*[@id='b2hotelPage']/script[24]\")\n",
    "            #lat,lng = find_latlng(script.get_attribute('innerHTML'))\n",
    "            #latitude.append(lat)\n",
    "            #longitude.append(lng)\n",
    "            #addr = driver.find_element_by_xpath(\"//*[@id='b_map_container']/div[2]/div[1]/div/div[1]/div[4]\")\n",
    "            #hotel_address.append(addr.text)\n",
    "            #driver.close()\n",
    "            #driver.switch_to.window(driver.window_handles[0])\n",
    "            hotel_names.append(names[j].text)\n",
    "            hotel_address.append(address[j].text)\n",
    "            hotel_prices.append(prices[j].text)\n",
    "            \n",
    "        if(len(li)!=0):\n",
    "            button = driver.find_element_by_xpath(\"//*[@id='search_results_table']/div[4]/nav/ul/li[3]/a\")\n",
    "            button.click()\n",
    "            driver.refresh() \n",
    "#     cities = driver.find_element_by_xpath(\"//*[@id='filter_uf']/div[2]\")\n",
    "#     no_of_cities = cities.find_elements_by_tag_name('a')\n",
    "#     no_of_cities[i].click()\n",
    "#     driver.refresh()\n",
    "    button = driver.find_element_by_xpath(\"//*[@id='filter_uf']/div[2]/a\")\n",
    "    button.click()\n",
    "    driver.refresh()\n",
    "    "
   ]
  },
  {
   "cell_type": "code",
   "execution_count": 54,
   "metadata": {},
   "outputs": [],
   "source": [
    "data = [hotel_names,hotel_address,hotel_prices]\n",
    "import pandas as pd\n",
    "df = pd.DataFrame(data)\n",
    "df = df.T"
   ]
  },
  {
   "cell_type": "code",
   "execution_count": 55,
   "metadata": {},
   "outputs": [
    {
     "data": {
      "text/html": [
       "<div>\n",
       "<style scoped>\n",
       "    .dataframe tbody tr th:only-of-type {\n",
       "        vertical-align: middle;\n",
       "    }\n",
       "\n",
       "    .dataframe tbody tr th {\n",
       "        vertical-align: top;\n",
       "    }\n",
       "\n",
       "    .dataframe thead th {\n",
       "        text-align: right;\n",
       "    }\n",
       "</style>\n",
       "<table border=\"1\" class=\"dataframe\">\n",
       "  <thead>\n",
       "    <tr style=\"text-align: right;\">\n",
       "      <th></th>\n",
       "      <th>0</th>\n",
       "      <th>1</th>\n",
       "      <th>2</th>\n",
       "    </tr>\n",
       "  </thead>\n",
       "  <tbody>\n",
       "    <tr>\n",
       "      <th>0</th>\n",
       "      <td>Red Roof Inn Houston Brookhollow</td>\n",
       "      <td>Northwest Houston, Houston Show on map</td>\n",
       "      <td>US$50</td>\n",
       "    </tr>\n",
       "    <tr>\n",
       "      <th>1</th>\n",
       "      <td>Airway Inn</td>\n",
       "      <td>Houston Show on map</td>\n",
       "      <td>US$42</td>\n",
       "    </tr>\n",
       "    <tr>\n",
       "      <th>2</th>\n",
       "      <td>Comfort Suites Houston IAH Airport - Beltway 8</td>\n",
       "      <td>Houston Show on map</td>\n",
       "      <td>US$62</td>\n",
       "    </tr>\n",
       "    <tr>\n",
       "      <th>3</th>\n",
       "      <td>Wingate By Wyndham Houston / Willowbrook</td>\n",
       "      <td>Willowbrook, Houston Show on map</td>\n",
       "      <td>US$49</td>\n",
       "    </tr>\n",
       "    <tr>\n",
       "      <th>4</th>\n",
       "      <td>WoodSpring Suites Houston Westchase</td>\n",
       "      <td>Westchase, Houston Show on map</td>\n",
       "      <td>US$58</td>\n",
       "    </tr>\n",
       "    <tr>\n",
       "      <th>...</th>\n",
       "      <td>...</td>\n",
       "      <td>...</td>\n",
       "      <td>...</td>\n",
       "    </tr>\n",
       "    <tr>\n",
       "      <th>1292</th>\n",
       "      <td>Hotel Indigo San Antonio Riverwalk</td>\n",
       "      <td>Downtown - Riverwalk, San Antonio Show on map</td>\n",
       "      <td>US$109</td>\n",
       "    </tr>\n",
       "    <tr>\n",
       "      <th>1293</th>\n",
       "      <td>Embassy Suites San Antonio Brooks City Base Ho...</td>\n",
       "      <td>East San Antonio, San Antonio Show on map</td>\n",
       "      <td>US$129</td>\n",
       "    </tr>\n",
       "    <tr>\n",
       "      <th>1294</th>\n",
       "      <td>Stay Express Inn Near Ft. Sam Houston</td>\n",
       "      <td>Alamo Heights, San Antonio Show on map</td>\n",
       "      <td>US$70</td>\n",
       "    </tr>\n",
       "    <tr>\n",
       "      <th>1295</th>\n",
       "      <td>Staybridge Suites San Antonio Downtown Convent...</td>\n",
       "      <td>Downtown - Riverwalk, San Antonio Show on map</td>\n",
       "      <td>US$110</td>\n",
       "    </tr>\n",
       "    <tr>\n",
       "      <th>1296</th>\n",
       "      <td>Bandera Motel</td>\n",
       "      <td>West San Antonio, San Antonio Show on map</td>\n",
       "      <td>US$120</td>\n",
       "    </tr>\n",
       "  </tbody>\n",
       "</table>\n",
       "<p>1297 rows × 3 columns</p>\n",
       "</div>"
      ],
      "text/plain": [
       "                                                      0  \\\n",
       "0                      Red Roof Inn Houston Brookhollow   \n",
       "1                                            Airway Inn   \n",
       "2        Comfort Suites Houston IAH Airport - Beltway 8   \n",
       "3              Wingate By Wyndham Houston / Willowbrook   \n",
       "4                   WoodSpring Suites Houston Westchase   \n",
       "...                                                 ...   \n",
       "1292                 Hotel Indigo San Antonio Riverwalk   \n",
       "1293  Embassy Suites San Antonio Brooks City Base Ho...   \n",
       "1294              Stay Express Inn Near Ft. Sam Houston   \n",
       "1295  Staybridge Suites San Antonio Downtown Convent...   \n",
       "1296                                      Bandera Motel   \n",
       "\n",
       "                                                  1       2  \n",
       "0            Northwest Houston, Houston Show on map   US$50  \n",
       "1                               Houston Show on map   US$42  \n",
       "2                               Houston Show on map   US$62  \n",
       "3                  Willowbrook, Houston Show on map   US$49  \n",
       "4                    Westchase, Houston Show on map   US$58  \n",
       "...                                             ...     ...  \n",
       "1292  Downtown - Riverwalk, San Antonio Show on map  US$109  \n",
       "1293      East San Antonio, San Antonio Show on map  US$129  \n",
       "1294         Alamo Heights, San Antonio Show on map   US$70  \n",
       "1295  Downtown - Riverwalk, San Antonio Show on map  US$110  \n",
       "1296      West San Antonio, San Antonio Show on map  US$120  \n",
       "\n",
       "[1297 rows x 3 columns]"
      ]
     },
     "execution_count": 55,
     "metadata": {},
     "output_type": "execute_result"
    }
   ],
   "source": [
    "df"
   ]
  },
  {
   "cell_type": "code",
   "execution_count": 56,
   "metadata": {},
   "outputs": [],
   "source": [
    "df.to_csv('United_States_9June_SA.csv')"
   ]
  },
  {
   "cell_type": "code",
   "execution_count": 114,
   "metadata": {},
   "outputs": [
    {
     "data": {
      "text/html": [
       "<div>\n",
       "<style scoped>\n",
       "    .dataframe tbody tr th:only-of-type {\n",
       "        vertical-align: middle;\n",
       "    }\n",
       "\n",
       "    .dataframe tbody tr th {\n",
       "        vertical-align: top;\n",
       "    }\n",
       "\n",
       "    .dataframe thead th {\n",
       "        text-align: right;\n",
       "    }\n",
       "</style>\n",
       "<table border=\"1\" class=\"dataframe\">\n",
       "  <thead>\n",
       "    <tr style=\"text-align: right;\">\n",
       "      <th></th>\n",
       "      <th>0</th>\n",
       "      <th>1</th>\n",
       "      <th>2</th>\n",
       "    </tr>\n",
       "  </thead>\n",
       "  <tbody>\n",
       "    <tr>\n",
       "      <th>0</th>\n",
       "      <td>Southernmost Inn Adult Exclusive</td>\n",
       "      <td>Downtown Key West, Key West Show on map</td>\n",
       "      <td>US$110</td>\n",
       "    </tr>\n",
       "    <tr>\n",
       "      <th>1</th>\n",
       "      <td>The Cabana Inn Key West - Adult Exclusive</td>\n",
       "      <td>Downtown Key West, Key West Show on map</td>\n",
       "      <td>US$169</td>\n",
       "    </tr>\n",
       "    <tr>\n",
       "      <th>2</th>\n",
       "      <td>Westwinds Inn</td>\n",
       "      <td>Downtown Key West, Key West Show on map</td>\n",
       "      <td>US$120</td>\n",
       "    </tr>\n",
       "    <tr>\n",
       "      <th>3</th>\n",
       "      <td>Nyah - Adult Exclusive</td>\n",
       "      <td>Downtown Key West, Key West Show on map</td>\n",
       "      <td>US$98</td>\n",
       "    </tr>\n",
       "    <tr>\n",
       "      <th>4</th>\n",
       "      <td>Caribbean House</td>\n",
       "      <td>Downtown Key West, Key West Show on map</td>\n",
       "      <td>US$109</td>\n",
       "    </tr>\n",
       "    <tr>\n",
       "      <th>...</th>\n",
       "      <td>...</td>\n",
       "      <td>...</td>\n",
       "      <td>...</td>\n",
       "    </tr>\n",
       "    <tr>\n",
       "      <th>581</th>\n",
       "      <td>Airport Plaza Hotel JFK Airport</td>\n",
       "      <td>Jamaica, Queens Show on map 300 m from metro s...</td>\n",
       "      <td>US$229</td>\n",
       "    </tr>\n",
       "    <tr>\n",
       "      <th>582</th>\n",
       "      <td>Comfort Inn &amp; Suites LaGuardia Airport</td>\n",
       "      <td>Queens Show on map</td>\n",
       "      <td>US$120</td>\n",
       "    </tr>\n",
       "    <tr>\n",
       "      <th>583</th>\n",
       "      <td>Best Western Queens Court</td>\n",
       "      <td>Flushing, Queens Show on map 250 m from metro ...</td>\n",
       "      <td>US$125</td>\n",
       "    </tr>\n",
       "    <tr>\n",
       "      <th>584</th>\n",
       "      <td>Adria's Ozone Pk Apartment</td>\n",
       "      <td>Queens Show on map</td>\n",
       "      <td>US$125</td>\n",
       "    </tr>\n",
       "    <tr>\n",
       "      <th>585</th>\n",
       "      <td>Giorgio Hotel</td>\n",
       "      <td>Long Island City, Queens Show on map 350 m fro...</td>\n",
       "      <td>US$74</td>\n",
       "    </tr>\n",
       "  </tbody>\n",
       "</table>\n",
       "<p>586 rows × 3 columns</p>\n",
       "</div>"
      ],
      "text/plain": [
       "                                             0  \\\n",
       "0             Southernmost Inn Adult Exclusive   \n",
       "1    The Cabana Inn Key West - Adult Exclusive   \n",
       "2                                Westwinds Inn   \n",
       "3                       Nyah - Adult Exclusive   \n",
       "4                              Caribbean House   \n",
       "..                                         ...   \n",
       "581            Airport Plaza Hotel JFK Airport   \n",
       "582     Comfort Inn & Suites LaGuardia Airport   \n",
       "583                  Best Western Queens Court   \n",
       "584                 Adria's Ozone Pk Apartment   \n",
       "585                              Giorgio Hotel   \n",
       "\n",
       "                                                     1       2  \n",
       "0              Downtown Key West, Key West Show on map  US$110  \n",
       "1              Downtown Key West, Key West Show on map  US$169  \n",
       "2              Downtown Key West, Key West Show on map  US$120  \n",
       "3              Downtown Key West, Key West Show on map   US$98  \n",
       "4              Downtown Key West, Key West Show on map  US$109  \n",
       "..                                                 ...     ...  \n",
       "581  Jamaica, Queens Show on map 300 m from metro s...  US$229  \n",
       "582                                 Queens Show on map  US$120  \n",
       "583  Flushing, Queens Show on map 250 m from metro ...  US$125  \n",
       "584                                 Queens Show on map  US$125  \n",
       "585  Long Island City, Queens Show on map 350 m fro...   US$74  \n",
       "\n",
       "[586 rows x 3 columns]"
      ]
     },
     "execution_count": 114,
     "metadata": {},
     "output_type": "execute_result"
    }
   ],
   "source": [
    "data = [hotel_names,hotel_address,hotel_prices]\n",
    "import pandas as pd\n",
    "df1 = pd.DataFrame(data)\n",
    "df1 = df1.T\n",
    "df1"
   ]
  },
  {
   "cell_type": "code",
   "execution_count": 115,
   "metadata": {},
   "outputs": [],
   "source": [
    "df = pd.concat([df,df1])"
   ]
  },
  {
   "cell_type": "code",
   "execution_count": 116,
   "metadata": {},
   "outputs": [
    {
     "data": {
      "text/html": [
       "<div>\n",
       "<style scoped>\n",
       "    .dataframe tbody tr th:only-of-type {\n",
       "        vertical-align: middle;\n",
       "    }\n",
       "\n",
       "    .dataframe tbody tr th {\n",
       "        vertical-align: top;\n",
       "    }\n",
       "\n",
       "    .dataframe thead th {\n",
       "        text-align: right;\n",
       "    }\n",
       "</style>\n",
       "<table border=\"1\" class=\"dataframe\">\n",
       "  <thead>\n",
       "    <tr style=\"text-align: right;\">\n",
       "      <th></th>\n",
       "      <th>0</th>\n",
       "      <th>1</th>\n",
       "      <th>2</th>\n",
       "    </tr>\n",
       "  </thead>\n",
       "  <tbody>\n",
       "    <tr>\n",
       "      <th>0</th>\n",
       "      <td>Red Roof Inn Houston Brookhollow</td>\n",
       "      <td>Northwest Houston, Houston Show on map</td>\n",
       "      <td>US$50</td>\n",
       "    </tr>\n",
       "    <tr>\n",
       "      <th>1</th>\n",
       "      <td>Airway Inn</td>\n",
       "      <td>Houston Show on map</td>\n",
       "      <td>US$42</td>\n",
       "    </tr>\n",
       "    <tr>\n",
       "      <th>2</th>\n",
       "      <td>Comfort Suites Houston IAH Airport - Beltway 8</td>\n",
       "      <td>Houston Show on map</td>\n",
       "      <td>US$62</td>\n",
       "    </tr>\n",
       "    <tr>\n",
       "      <th>3</th>\n",
       "      <td>Wingate By Wyndham Houston / Willowbrook</td>\n",
       "      <td>Willowbrook, Houston Show on map</td>\n",
       "      <td>US$49</td>\n",
       "    </tr>\n",
       "    <tr>\n",
       "      <th>4</th>\n",
       "      <td>WoodSpring Suites Houston Westchase</td>\n",
       "      <td>Westchase, Houston Show on map</td>\n",
       "      <td>US$58</td>\n",
       "    </tr>\n",
       "    <tr>\n",
       "      <th>...</th>\n",
       "      <td>...</td>\n",
       "      <td>...</td>\n",
       "      <td>...</td>\n",
       "    </tr>\n",
       "    <tr>\n",
       "      <th>581</th>\n",
       "      <td>Airport Plaza Hotel JFK Airport</td>\n",
       "      <td>Jamaica, Queens Show on map 300 m from metro s...</td>\n",
       "      <td>US$229</td>\n",
       "    </tr>\n",
       "    <tr>\n",
       "      <th>582</th>\n",
       "      <td>Comfort Inn &amp; Suites LaGuardia Airport</td>\n",
       "      <td>Queens Show on map</td>\n",
       "      <td>US$120</td>\n",
       "    </tr>\n",
       "    <tr>\n",
       "      <th>583</th>\n",
       "      <td>Best Western Queens Court</td>\n",
       "      <td>Flushing, Queens Show on map 250 m from metro ...</td>\n",
       "      <td>US$125</td>\n",
       "    </tr>\n",
       "    <tr>\n",
       "      <th>584</th>\n",
       "      <td>Adria's Ozone Pk Apartment</td>\n",
       "      <td>Queens Show on map</td>\n",
       "      <td>US$125</td>\n",
       "    </tr>\n",
       "    <tr>\n",
       "      <th>585</th>\n",
       "      <td>Giorgio Hotel</td>\n",
       "      <td>Long Island City, Queens Show on map 350 m fro...</td>\n",
       "      <td>US$74</td>\n",
       "    </tr>\n",
       "  </tbody>\n",
       "</table>\n",
       "<p>4179 rows × 3 columns</p>\n",
       "</div>"
      ],
      "text/plain": [
       "                                                  0  \\\n",
       "0                  Red Roof Inn Houston Brookhollow   \n",
       "1                                        Airway Inn   \n",
       "2    Comfort Suites Houston IAH Airport - Beltway 8   \n",
       "3          Wingate By Wyndham Houston / Willowbrook   \n",
       "4               WoodSpring Suites Houston Westchase   \n",
       "..                                              ...   \n",
       "581                 Airport Plaza Hotel JFK Airport   \n",
       "582          Comfort Inn & Suites LaGuardia Airport   \n",
       "583                       Best Western Queens Court   \n",
       "584                      Adria's Ozone Pk Apartment   \n",
       "585                                   Giorgio Hotel   \n",
       "\n",
       "                                                     1       2  \n",
       "0               Northwest Houston, Houston Show on map   US$50  \n",
       "1                                  Houston Show on map   US$42  \n",
       "2                                  Houston Show on map   US$62  \n",
       "3                     Willowbrook, Houston Show on map   US$49  \n",
       "4                       Westchase, Houston Show on map   US$58  \n",
       "..                                                 ...     ...  \n",
       "581  Jamaica, Queens Show on map 300 m from metro s...  US$229  \n",
       "582                                 Queens Show on map  US$120  \n",
       "583  Flushing, Queens Show on map 250 m from metro ...  US$125  \n",
       "584                                 Queens Show on map  US$125  \n",
       "585  Long Island City, Queens Show on map 350 m fro...   US$74  \n",
       "\n",
       "[4179 rows x 3 columns]"
      ]
     },
     "execution_count": 116,
     "metadata": {},
     "output_type": "execute_result"
    }
   ],
   "source": [
    "df"
   ]
  },
  {
   "cell_type": "code",
   "execution_count": null,
   "metadata": {},
   "outputs": [],
   "source": [
    "df.to_csv('United_States_9June_full.csv')"
   ]
  },
  {
   "cell_type": "code",
   "execution_count": null,
   "metadata": {},
   "outputs": [],
   "source": []
  }
 ],
 "metadata": {
  "kernelspec": {
   "display_name": "Python 3",
   "language": "python",
   "name": "python3"
  },
  "language_info": {
   "codemirror_mode": {
    "name": "ipython",
    "version": 3
   },
   "file_extension": ".py",
   "mimetype": "text/x-python",
   "name": "python",
   "nbconvert_exporter": "python",
   "pygments_lexer": "ipython3",
   "version": "3.7.4"
  }
 },
 "nbformat": 4,
 "nbformat_minor": 4
}
